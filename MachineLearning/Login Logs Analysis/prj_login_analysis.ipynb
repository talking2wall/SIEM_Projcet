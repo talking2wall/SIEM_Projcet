{
 "cells": [
  {
   "cell_type": "code",
   "execution_count": 1,
   "metadata": {},
   "outputs": [],
   "source": [
    "import pandas as pd\n",
    "import re"
   ]
  },
  {
   "cell_type": "markdown",
   "metadata": {},
   "source": [
    "We will clean our new samples of 'bad login' and 'good login' in 3 simple steps:\n",
    "1. Open the new samples.\n",
    "2. Extract our wanted features, as we learnt from the previous samples.\n",
    "3. Save them as CSV files."
   ]
  },
  {
   "cell_type": "code",
   "execution_count": 2,
   "metadata": {},
   "outputs": [],
   "source": [
    "LogName = []\n",
    "Date = []\n",
    "Time = []\n",
    "ComputerName = []\n",
    "SourceName = []\n",
    "TaskCategory = []\n",
    "EventType = []\n",
    "Message = []\n",
    "Keywords = []\n",
    "OpCode = []\n",
    "EventCode = []\n",
    "Type = []\n",
    "RecordNumber = []\n",
    "\n",
    "for log_name in ['bad_login', 'good_login']:\n",
    "    df = pd.read_csv(log_name + '.csv')\n",
    "    for i in range(0,len(df)):\n",
    "        current_log = df.iloc[i]['_raw']\n",
    "        Date.append(current_log[0:10])\n",
    "        Time.append(current_log[11:22])\n",
    "        LogName.append(re.search('LogName=(.*)\\n', current_log).group(1))\n",
    "        ComputerName.append(re.search('ComputerName=(.*)\\n', current_log).group(1))\n",
    "        SourceName.append(re.search('SourceName=(.*)\\n', current_log).group(1))\n",
    "        TaskCategory.append(re.search('TaskCategory=(.*)\\n', current_log).group(1))\n",
    "        EventType.append(re.search('EventType=(.*)\\n', current_log).group(1))\n",
    "        Keywords.append(re.search('Keywords=(.*)\\n', current_log).group(1))\n",
    "        OpCode.append(re.search('OpCode=(.*)\\n', current_log).group(1))\n",
    "        EventCode.append(re.search('EventCode=(.*)\\n', current_log).group(1))\n",
    "        Type.append(re.search('Type=(.*)\\n', current_log).group(1))\n",
    "        RecordNumber.append(re.search('RecordNumber=(.*)\\n', current_log).group(1))\n",
    "        Message.append(re.search('Message=(.*)', current_log).group(1))\n",
    "\n",
    "    df_cleaned = pd.DataFrame({ 'LogName' : LogName,\n",
    "                            'Date' : Date,\n",
    "                            'Time' : Time,\n",
    "                            'ComputerName' : ComputerName,\n",
    "                            'SourceName' : SourceName,\n",
    "                            'TaskCategory' : TaskCategory,\n",
    "                            'EventType' : EventType,\n",
    "                            'Keywords' : Keywords,\n",
    "                            'OpCode' : OpCode,\n",
    "                            'EventCode' : EventCode,\n",
    "                            'Type' : Type,\n",
    "                            'RecordNumber' : RecordNumber,\n",
    "                            'Message' : Message })\n",
    "    \n",
    "    df_cleaned['EventType'] = df_cleaned['EventType'].astype(int)\n",
    "    df_cleaned['EventCode'] = df_cleaned['EventCode'].astype(int)\n",
    "    df_cleaned['Type'] = df_cleaned['Type'].astype(int)\n",
    "    df_cleaned['RecordNumber'] = df_cleaned['RecordNumber'].astype(int)\n",
    "    df_cleaned['Date'] = pd.to_datetime(df_cleaned['Date'], format='%m/%d/%Y')\n",
    "    df_cleaned['Time'] = pd.to_datetime(df_cleaned['Time'], format='%I:%M:%S %p').dt.time\n",
    "\n",
    "    df_cleaned.to_csv(log_name + '_cleaned.csv', index=False)"
   ]
  },
  {
   "cell_type": "markdown",
   "metadata": {},
   "source": [
    "#### Let's check how a <b>'bad'</b> and a <b>'good'</b> login should look like:"
   ]
  },
  {
   "cell_type": "markdown",
   "metadata": {},
   "source": [
    "We know from reading on the internet that the logs should look like this:<br>\n",
    "<u>EventCode 4624:</u> An account was successfully logged on.<br>\n",
    "<u>EventCode 4625:</u> An account failed to log on.\n",
    "<br><br>\n",
    "but let's confirm that it's the case:"
   ]
  },
  {
   "cell_type": "code",
   "execution_count": 3,
   "metadata": {},
   "outputs": [],
   "source": [
    "bad_login_cleaned = pd.read_csv('bad_login_cleaned.csv')\n",
    "good_login_cleaned = pd.read_csv('good_login_cleaned.csv')"
   ]
  },
  {
   "cell_type": "code",
   "execution_count": 4,
   "metadata": {},
   "outputs": [
    {
     "data": {
      "text/html": [
       "<div>\n",
       "<style scoped>\n",
       "    .dataframe tbody tr th:only-of-type {\n",
       "        vertical-align: middle;\n",
       "    }\n",
       "\n",
       "    .dataframe tbody tr th {\n",
       "        vertical-align: top;\n",
       "    }\n",
       "\n",
       "    .dataframe thead th {\n",
       "        text-align: right;\n",
       "    }\n",
       "</style>\n",
       "<table border=\"1\" class=\"dataframe\">\n",
       "  <thead>\n",
       "    <tr style=\"text-align: right;\">\n",
       "      <th></th>\n",
       "      <th>LogName</th>\n",
       "      <th>Date</th>\n",
       "      <th>Time</th>\n",
       "      <th>ComputerName</th>\n",
       "      <th>SourceName</th>\n",
       "      <th>TaskCategory</th>\n",
       "      <th>EventType</th>\n",
       "      <th>Keywords</th>\n",
       "      <th>OpCode</th>\n",
       "      <th>EventCode</th>\n",
       "      <th>Type</th>\n",
       "      <th>RecordNumber</th>\n",
       "      <th>Message</th>\n",
       "    </tr>\n",
       "  </thead>\n",
       "  <tbody>\n",
       "    <tr>\n",
       "      <th>0</th>\n",
       "      <td>Security</td>\n",
       "      <td>2023-09-26</td>\n",
       "      <td>18:01:50</td>\n",
       "      <td>CLIENT-PC</td>\n",
       "      <td>Microsoft Windows security auditing.</td>\n",
       "      <td>Logon</td>\n",
       "      <td>0</td>\n",
       "      <td>Audit Failure</td>\n",
       "      <td>Info</td>\n",
       "      <td>4625</td>\n",
       "      <td>0</td>\n",
       "      <td>324891</td>\n",
       "      <td>An account failed to log on.\\r</td>\n",
       "    </tr>\n",
       "  </tbody>\n",
       "</table>\n",
       "</div>"
      ],
      "text/plain": [
       "    LogName        Date      Time ComputerName  \\\n",
       "0  Security  2023-09-26  18:01:50    CLIENT-PC   \n",
       "\n",
       "                             SourceName TaskCategory  EventType  \\\n",
       "0  Microsoft Windows security auditing.        Logon          0   \n",
       "\n",
       "        Keywords OpCode  EventCode  Type  RecordNumber  \\\n",
       "0  Audit Failure   Info       4625     0        324891   \n",
       "\n",
       "                          Message  \n",
       "0  An account failed to log on.\\r  "
      ]
     },
     "execution_count": 4,
     "metadata": {},
     "output_type": "execute_result"
    }
   ],
   "source": [
    "bad_login_cleaned[bad_login_cleaned['EventCode'] == 4625].iloc[0:1]"
   ]
  },
  {
   "cell_type": "code",
   "execution_count": 5,
   "metadata": {},
   "outputs": [
    {
     "data": {
      "text/html": [
       "<div>\n",
       "<style scoped>\n",
       "    .dataframe tbody tr th:only-of-type {\n",
       "        vertical-align: middle;\n",
       "    }\n",
       "\n",
       "    .dataframe tbody tr th {\n",
       "        vertical-align: top;\n",
       "    }\n",
       "\n",
       "    .dataframe thead th {\n",
       "        text-align: right;\n",
       "    }\n",
       "</style>\n",
       "<table border=\"1\" class=\"dataframe\">\n",
       "  <thead>\n",
       "    <tr style=\"text-align: right;\">\n",
       "      <th></th>\n",
       "      <th>LogName</th>\n",
       "      <th>Date</th>\n",
       "      <th>Time</th>\n",
       "      <th>ComputerName</th>\n",
       "      <th>SourceName</th>\n",
       "      <th>TaskCategory</th>\n",
       "      <th>EventType</th>\n",
       "      <th>Keywords</th>\n",
       "      <th>OpCode</th>\n",
       "      <th>EventCode</th>\n",
       "      <th>Type</th>\n",
       "      <th>RecordNumber</th>\n",
       "      <th>Message</th>\n",
       "    </tr>\n",
       "  </thead>\n",
       "  <tbody>\n",
       "    <tr>\n",
       "      <th>22</th>\n",
       "      <td>Security</td>\n",
       "      <td>2023-09-26</td>\n",
       "      <td>18:16:11</td>\n",
       "      <td>CLIENT-PC</td>\n",
       "      <td>Microsoft Windows security auditing.</td>\n",
       "      <td>Logon</td>\n",
       "      <td>0</td>\n",
       "      <td>Audit Success</td>\n",
       "      <td>Info</td>\n",
       "      <td>4624</td>\n",
       "      <td>0</td>\n",
       "      <td>336576</td>\n",
       "      <td>An account was successfully logged on.</td>\n",
       "    </tr>\n",
       "  </tbody>\n",
       "</table>\n",
       "</div>"
      ],
      "text/plain": [
       "     LogName        Date      Time ComputerName  \\\n",
       "22  Security  2023-09-26  18:16:11    CLIENT-PC   \n",
       "\n",
       "                              SourceName TaskCategory  EventType  \\\n",
       "22  Microsoft Windows security auditing.        Logon          0   \n",
       "\n",
       "         Keywords OpCode  EventCode  Type  RecordNumber  \\\n",
       "22  Audit Success   Info       4624     0        336576   \n",
       "\n",
       "                                   Message  \n",
       "22  An account was successfully logged on.  "
      ]
     },
     "execution_count": 5,
     "metadata": {},
     "output_type": "execute_result"
    }
   ],
   "source": [
    "good_login_cleaned[good_login_cleaned['EventCode'] == 4624].iloc[0:1]"
   ]
  },
  {
   "cell_type": "markdown",
   "metadata": {},
   "source": [
    "#### <u>Conclution:</u> As we can see, we got the codes right and now we can safely continue to create our alerts system."
   ]
  }
 ],
 "metadata": {
  "kernelspec": {
   "display_name": "Python 3",
   "language": "python",
   "name": "python3"
  },
  "language_info": {
   "codemirror_mode": {
    "name": "ipython",
    "version": 3
   },
   "file_extension": ".py",
   "mimetype": "text/x-python",
   "name": "python",
   "nbconvert_exporter": "python",
   "pygments_lexer": "ipython3",
   "version": "3.11.3"
  },
  "orig_nbformat": 4
 },
 "nbformat": 4,
 "nbformat_minor": 2
}
