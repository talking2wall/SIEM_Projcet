{
 "cells": [
  {
   "cell_type": "code",
   "execution_count": 1,
   "metadata": {},
   "outputs": [],
   "source": [
    "import pandas as pd\n",
    "import numpy as np\n",
    "import seaborn as sns\n",
    "import matplotlib.pyplot as plt\n",
    "import re\n",
    "from sklearn import preprocessing\n",
    "from collections import Counter"
   ]
  },
  {
   "cell_type": "markdown",
   "metadata": {},
   "source": [
    "## Combining the two datasets "
   ]
  },
  {
   "cell_type": "markdown",
   "metadata": {},
   "source": [
    "Load 'Good Examples':"
   ]
  },
  {
   "cell_type": "code",
   "execution_count": 2,
   "metadata": {},
   "outputs": [
    {
     "data": {
      "text/html": [
       "<div>\n",
       "<style scoped>\n",
       "    .dataframe tbody tr th:only-of-type {\n",
       "        vertical-align: middle;\n",
       "    }\n",
       "\n",
       "    .dataframe tbody tr th {\n",
       "        vertical-align: top;\n",
       "    }\n",
       "\n",
       "    .dataframe thead th {\n",
       "        text-align: right;\n",
       "    }\n",
       "</style>\n",
       "<table border=\"1\" class=\"dataframe\">\n",
       "  <thead>\n",
       "    <tr style=\"text-align: right;\">\n",
       "      <th></th>\n",
       "      <th>LogName</th>\n",
       "      <th>Date</th>\n",
       "      <th>Time</th>\n",
       "      <th>ComputerName</th>\n",
       "      <th>SourceName</th>\n",
       "      <th>TaskCategory</th>\n",
       "      <th>EventType</th>\n",
       "      <th>Keywords</th>\n",
       "      <th>OpCode</th>\n",
       "      <th>EventCode</th>\n",
       "      <th>Type</th>\n",
       "      <th>RecordNumber</th>\n",
       "      <th>Message</th>\n",
       "    </tr>\n",
       "  </thead>\n",
       "  <tbody>\n",
       "    <tr>\n",
       "      <th>0</th>\n",
       "      <td>Application</td>\n",
       "      <td>2023-09-22</td>\n",
       "      <td>00:10:15</td>\n",
       "      <td>CLIENT-PC</td>\n",
       "      <td>Microsoft-Windows-Security-SPP</td>\n",
       "      <td>NaN</td>\n",
       "      <td>4</td>\n",
       "      <td>Classic</td>\n",
       "      <td>NaN</td>\n",
       "      <td>16384</td>\n",
       "      <td>4</td>\n",
       "      <td>3267</td>\n",
       "      <td>Successfully scheduled Software Protection ser...</td>\n",
       "    </tr>\n",
       "    <tr>\n",
       "      <th>1</th>\n",
       "      <td>System</td>\n",
       "      <td>2023-09-22</td>\n",
       "      <td>00:10:01</td>\n",
       "      <td>CLIENT-PC</td>\n",
       "      <td>Microsoft-Windows-Kernel-General</td>\n",
       "      <td>NaN</td>\n",
       "      <td>4</td>\n",
       "      <td>NaN</td>\n",
       "      <td>Info</td>\n",
       "      <td>16</td>\n",
       "      <td>4</td>\n",
       "      <td>2279</td>\n",
       "      <td>The access history in hive \\??\\C:\\Users\\Commun...</td>\n",
       "    </tr>\n",
       "  </tbody>\n",
       "</table>\n",
       "</div>"
      ],
      "text/plain": [
       "       LogName        Date      Time ComputerName  \\\n",
       "0  Application  2023-09-22  00:10:15    CLIENT-PC   \n",
       "1       System  2023-09-22  00:10:01    CLIENT-PC   \n",
       "\n",
       "                         SourceName TaskCategory  EventType Keywords OpCode  \\\n",
       "0    Microsoft-Windows-Security-SPP          NaN          4  Classic    NaN   \n",
       "1  Microsoft-Windows-Kernel-General          NaN          4      NaN   Info   \n",
       "\n",
       "   EventCode  Type  RecordNumber  \\\n",
       "0      16384     4          3267   \n",
       "1         16     4          2279   \n",
       "\n",
       "                                             Message  \n",
       "0  Successfully scheduled Software Protection ser...  \n",
       "1  The access history in hive \\??\\C:\\Users\\Commun...  "
      ]
     },
     "execution_count": 2,
     "metadata": {},
     "output_type": "execute_result"
    }
   ],
   "source": [
    "df_good = pd.read_csv('good_samples_cleaned.csv')\n",
    "\n",
    "df_good.head(2)"
   ]
  },
  {
   "cell_type": "markdown",
   "metadata": {},
   "source": [
    "Let's add a feature called 'Malicious' with the value 'No':"
   ]
  },
  {
   "cell_type": "code",
   "execution_count": 3,
   "metadata": {},
   "outputs": [
    {
     "data": {
      "text/html": [
       "<div>\n",
       "<style scoped>\n",
       "    .dataframe tbody tr th:only-of-type {\n",
       "        vertical-align: middle;\n",
       "    }\n",
       "\n",
       "    .dataframe tbody tr th {\n",
       "        vertical-align: top;\n",
       "    }\n",
       "\n",
       "    .dataframe thead th {\n",
       "        text-align: right;\n",
       "    }\n",
       "</style>\n",
       "<table border=\"1\" class=\"dataframe\">\n",
       "  <thead>\n",
       "    <tr style=\"text-align: right;\">\n",
       "      <th></th>\n",
       "      <th>LogName</th>\n",
       "      <th>Date</th>\n",
       "      <th>Time</th>\n",
       "      <th>ComputerName</th>\n",
       "      <th>SourceName</th>\n",
       "      <th>TaskCategory</th>\n",
       "      <th>EventType</th>\n",
       "      <th>Keywords</th>\n",
       "      <th>OpCode</th>\n",
       "      <th>EventCode</th>\n",
       "      <th>Type</th>\n",
       "      <th>RecordNumber</th>\n",
       "      <th>Message</th>\n",
       "      <th>isMalicious</th>\n",
       "    </tr>\n",
       "  </thead>\n",
       "  <tbody>\n",
       "    <tr>\n",
       "      <th>0</th>\n",
       "      <td>Application</td>\n",
       "      <td>2023-09-22</td>\n",
       "      <td>00:10:15</td>\n",
       "      <td>CLIENT-PC</td>\n",
       "      <td>Microsoft-Windows-Security-SPP</td>\n",
       "      <td>NaN</td>\n",
       "      <td>4</td>\n",
       "      <td>Classic</td>\n",
       "      <td>NaN</td>\n",
       "      <td>16384</td>\n",
       "      <td>4</td>\n",
       "      <td>3267</td>\n",
       "      <td>Successfully scheduled Software Protection ser...</td>\n",
       "      <td>No</td>\n",
       "    </tr>\n",
       "    <tr>\n",
       "      <th>1</th>\n",
       "      <td>System</td>\n",
       "      <td>2023-09-22</td>\n",
       "      <td>00:10:01</td>\n",
       "      <td>CLIENT-PC</td>\n",
       "      <td>Microsoft-Windows-Kernel-General</td>\n",
       "      <td>NaN</td>\n",
       "      <td>4</td>\n",
       "      <td>NaN</td>\n",
       "      <td>Info</td>\n",
       "      <td>16</td>\n",
       "      <td>4</td>\n",
       "      <td>2279</td>\n",
       "      <td>The access history in hive \\??\\C:\\Users\\Commun...</td>\n",
       "      <td>No</td>\n",
       "    </tr>\n",
       "  </tbody>\n",
       "</table>\n",
       "</div>"
      ],
      "text/plain": [
       "       LogName        Date      Time ComputerName  \\\n",
       "0  Application  2023-09-22  00:10:15    CLIENT-PC   \n",
       "1       System  2023-09-22  00:10:01    CLIENT-PC   \n",
       "\n",
       "                         SourceName TaskCategory  EventType Keywords OpCode  \\\n",
       "0    Microsoft-Windows-Security-SPP          NaN          4  Classic    NaN   \n",
       "1  Microsoft-Windows-Kernel-General          NaN          4      NaN   Info   \n",
       "\n",
       "   EventCode  Type  RecordNumber  \\\n",
       "0      16384     4          3267   \n",
       "1         16     4          2279   \n",
       "\n",
       "                                             Message isMalicious  \n",
       "0  Successfully scheduled Software Protection ser...          No  \n",
       "1  The access history in hive \\??\\C:\\Users\\Commun...          No  "
      ]
     },
     "execution_count": 3,
     "metadata": {},
     "output_type": "execute_result"
    }
   ],
   "source": [
    "isMalicious = ['No'] * len(df_good)\n",
    "df_good['isMalicious'] = isMalicious\n",
    "\n",
    "df_good.head(2)"
   ]
  },
  {
   "cell_type": "markdown",
   "metadata": {},
   "source": [
    "Load 'Bad Examples':"
   ]
  },
  {
   "cell_type": "code",
   "execution_count": 4,
   "metadata": {},
   "outputs": [
    {
     "data": {
      "text/html": [
       "<div>\n",
       "<style scoped>\n",
       "    .dataframe tbody tr th:only-of-type {\n",
       "        vertical-align: middle;\n",
       "    }\n",
       "\n",
       "    .dataframe tbody tr th {\n",
       "        vertical-align: top;\n",
       "    }\n",
       "\n",
       "    .dataframe thead th {\n",
       "        text-align: right;\n",
       "    }\n",
       "</style>\n",
       "<table border=\"1\" class=\"dataframe\">\n",
       "  <thead>\n",
       "    <tr style=\"text-align: right;\">\n",
       "      <th></th>\n",
       "      <th>LogName</th>\n",
       "      <th>Date</th>\n",
       "      <th>Time</th>\n",
       "      <th>ComputerName</th>\n",
       "      <th>SourceName</th>\n",
       "      <th>TaskCategory</th>\n",
       "      <th>EventType</th>\n",
       "      <th>Keywords</th>\n",
       "      <th>OpCode</th>\n",
       "      <th>EventCode</th>\n",
       "      <th>Type</th>\n",
       "      <th>RecordNumber</th>\n",
       "      <th>Message</th>\n",
       "    </tr>\n",
       "  </thead>\n",
       "  <tbody>\n",
       "    <tr>\n",
       "      <th>0</th>\n",
       "      <td>Security</td>\n",
       "      <td>2023-08-26</td>\n",
       "      <td>18:08:41</td>\n",
       "      <td>CLIENT-PC</td>\n",
       "      <td>Microsoft Windows security auditing.</td>\n",
       "      <td>Handle Manipulation</td>\n",
       "      <td>0</td>\n",
       "      <td>Audit Success</td>\n",
       "      <td>Info</td>\n",
       "      <td>4690</td>\n",
       "      <td>0</td>\n",
       "      <td>248579</td>\n",
       "      <td>An attempt was made to duplicate a handle to a...</td>\n",
       "    </tr>\n",
       "    <tr>\n",
       "      <th>1</th>\n",
       "      <td>Security</td>\n",
       "      <td>2023-08-26</td>\n",
       "      <td>18:08:41</td>\n",
       "      <td>CLIENT-PC</td>\n",
       "      <td>Microsoft Windows security auditing.</td>\n",
       "      <td>File System</td>\n",
       "      <td>0</td>\n",
       "      <td>Audit Success</td>\n",
       "      <td>Info</td>\n",
       "      <td>4658</td>\n",
       "      <td>0</td>\n",
       "      <td>248580</td>\n",
       "      <td>The handle to an object was closed.</td>\n",
       "    </tr>\n",
       "  </tbody>\n",
       "</table>\n",
       "</div>"
      ],
      "text/plain": [
       "    LogName        Date      Time ComputerName  \\\n",
       "0  Security  2023-08-26  18:08:41    CLIENT-PC   \n",
       "1  Security  2023-08-26  18:08:41    CLIENT-PC   \n",
       "\n",
       "                             SourceName         TaskCategory  EventType  \\\n",
       "0  Microsoft Windows security auditing.  Handle Manipulation          0   \n",
       "1  Microsoft Windows security auditing.          File System          0   \n",
       "\n",
       "        Keywords OpCode  EventCode  Type  RecordNumber  \\\n",
       "0  Audit Success   Info       4690     0        248579   \n",
       "1  Audit Success   Info       4658     0        248580   \n",
       "\n",
       "                                             Message  \n",
       "0  An attempt was made to duplicate a handle to a...  \n",
       "1                The handle to an object was closed.  "
      ]
     },
     "execution_count": 4,
     "metadata": {},
     "output_type": "execute_result"
    }
   ],
   "source": [
    "df_bad = pd.read_csv('bad_samples_cleaned.csv')\n",
    "\n",
    "df_bad.head(2)"
   ]
  },
  {
   "cell_type": "markdown",
   "metadata": {},
   "source": [
    "Let's add a feature called 'Malicious' with the value 'No':"
   ]
  },
  {
   "cell_type": "code",
   "execution_count": 5,
   "metadata": {},
   "outputs": [
    {
     "data": {
      "text/html": [
       "<div>\n",
       "<style scoped>\n",
       "    .dataframe tbody tr th:only-of-type {\n",
       "        vertical-align: middle;\n",
       "    }\n",
       "\n",
       "    .dataframe tbody tr th {\n",
       "        vertical-align: top;\n",
       "    }\n",
       "\n",
       "    .dataframe thead th {\n",
       "        text-align: right;\n",
       "    }\n",
       "</style>\n",
       "<table border=\"1\" class=\"dataframe\">\n",
       "  <thead>\n",
       "    <tr style=\"text-align: right;\">\n",
       "      <th></th>\n",
       "      <th>LogName</th>\n",
       "      <th>Date</th>\n",
       "      <th>Time</th>\n",
       "      <th>ComputerName</th>\n",
       "      <th>SourceName</th>\n",
       "      <th>TaskCategory</th>\n",
       "      <th>EventType</th>\n",
       "      <th>Keywords</th>\n",
       "      <th>OpCode</th>\n",
       "      <th>EventCode</th>\n",
       "      <th>Type</th>\n",
       "      <th>RecordNumber</th>\n",
       "      <th>Message</th>\n",
       "      <th>isMalicious</th>\n",
       "    </tr>\n",
       "  </thead>\n",
       "  <tbody>\n",
       "    <tr>\n",
       "      <th>0</th>\n",
       "      <td>Security</td>\n",
       "      <td>2023-08-26</td>\n",
       "      <td>18:08:41</td>\n",
       "      <td>CLIENT-PC</td>\n",
       "      <td>Microsoft Windows security auditing.</td>\n",
       "      <td>Handle Manipulation</td>\n",
       "      <td>0</td>\n",
       "      <td>Audit Success</td>\n",
       "      <td>Info</td>\n",
       "      <td>4690</td>\n",
       "      <td>0</td>\n",
       "      <td>248579</td>\n",
       "      <td>An attempt was made to duplicate a handle to a...</td>\n",
       "      <td>Yes</td>\n",
       "    </tr>\n",
       "    <tr>\n",
       "      <th>1</th>\n",
       "      <td>Security</td>\n",
       "      <td>2023-08-26</td>\n",
       "      <td>18:08:41</td>\n",
       "      <td>CLIENT-PC</td>\n",
       "      <td>Microsoft Windows security auditing.</td>\n",
       "      <td>File System</td>\n",
       "      <td>0</td>\n",
       "      <td>Audit Success</td>\n",
       "      <td>Info</td>\n",
       "      <td>4658</td>\n",
       "      <td>0</td>\n",
       "      <td>248580</td>\n",
       "      <td>The handle to an object was closed.</td>\n",
       "      <td>Yes</td>\n",
       "    </tr>\n",
       "  </tbody>\n",
       "</table>\n",
       "</div>"
      ],
      "text/plain": [
       "    LogName        Date      Time ComputerName  \\\n",
       "0  Security  2023-08-26  18:08:41    CLIENT-PC   \n",
       "1  Security  2023-08-26  18:08:41    CLIENT-PC   \n",
       "\n",
       "                             SourceName         TaskCategory  EventType  \\\n",
       "0  Microsoft Windows security auditing.  Handle Manipulation          0   \n",
       "1  Microsoft Windows security auditing.          File System          0   \n",
       "\n",
       "        Keywords OpCode  EventCode  Type  RecordNumber  \\\n",
       "0  Audit Success   Info       4690     0        248579   \n",
       "1  Audit Success   Info       4658     0        248580   \n",
       "\n",
       "                                             Message isMalicious  \n",
       "0  An attempt was made to duplicate a handle to a...         Yes  \n",
       "1                The handle to an object was closed.         Yes  "
      ]
     },
     "execution_count": 5,
     "metadata": {},
     "output_type": "execute_result"
    }
   ],
   "source": [
    "isMalicious = ['Yes'] * len(df_bad)\n",
    "df_bad['isMalicious'] = isMalicious\n",
    "\n",
    "df_bad.head(2)"
   ]
  },
  {
   "cell_type": "markdown",
   "metadata": {},
   "source": [
    "#### Now let's merge the two dataeset together:"
   ]
  },
  {
   "cell_type": "code",
   "execution_count": 6,
   "metadata": {},
   "outputs": [
    {
     "data": {
      "text/html": [
       "<div>\n",
       "<style scoped>\n",
       "    .dataframe tbody tr th:only-of-type {\n",
       "        vertical-align: middle;\n",
       "    }\n",
       "\n",
       "    .dataframe tbody tr th {\n",
       "        vertical-align: top;\n",
       "    }\n",
       "\n",
       "    .dataframe thead th {\n",
       "        text-align: right;\n",
       "    }\n",
       "</style>\n",
       "<table border=\"1\" class=\"dataframe\">\n",
       "  <thead>\n",
       "    <tr style=\"text-align: right;\">\n",
       "      <th></th>\n",
       "      <th>LogName</th>\n",
       "      <th>Date</th>\n",
       "      <th>Time</th>\n",
       "      <th>ComputerName</th>\n",
       "      <th>SourceName</th>\n",
       "      <th>TaskCategory</th>\n",
       "      <th>EventType</th>\n",
       "      <th>Keywords</th>\n",
       "      <th>OpCode</th>\n",
       "      <th>EventCode</th>\n",
       "      <th>Type</th>\n",
       "      <th>RecordNumber</th>\n",
       "      <th>Message</th>\n",
       "      <th>isMalicious</th>\n",
       "    </tr>\n",
       "  </thead>\n",
       "  <tbody>\n",
       "    <tr>\n",
       "      <th>0</th>\n",
       "      <td>Application</td>\n",
       "      <td>2023-09-22</td>\n",
       "      <td>00:10:15</td>\n",
       "      <td>CLIENT-PC</td>\n",
       "      <td>Microsoft-Windows-Security-SPP</td>\n",
       "      <td>NaN</td>\n",
       "      <td>4</td>\n",
       "      <td>Classic</td>\n",
       "      <td>NaN</td>\n",
       "      <td>16384</td>\n",
       "      <td>4</td>\n",
       "      <td>3267</td>\n",
       "      <td>Successfully scheduled Software Protection ser...</td>\n",
       "      <td>No</td>\n",
       "    </tr>\n",
       "    <tr>\n",
       "      <th>1</th>\n",
       "      <td>System</td>\n",
       "      <td>2023-09-22</td>\n",
       "      <td>00:10:01</td>\n",
       "      <td>CLIENT-PC</td>\n",
       "      <td>Microsoft-Windows-Kernel-General</td>\n",
       "      <td>NaN</td>\n",
       "      <td>4</td>\n",
       "      <td>NaN</td>\n",
       "      <td>Info</td>\n",
       "      <td>16</td>\n",
       "      <td>4</td>\n",
       "      <td>2279</td>\n",
       "      <td>The access history in hive \\??\\C:\\Users\\Commun...</td>\n",
       "      <td>No</td>\n",
       "    </tr>\n",
       "    <tr>\n",
       "      <th>2</th>\n",
       "      <td>Application</td>\n",
       "      <td>2023-09-22</td>\n",
       "      <td>00:09:45</td>\n",
       "      <td>CLIENT-PC</td>\n",
       "      <td>SecurityCenter</td>\n",
       "      <td>NaN</td>\n",
       "      <td>4</td>\n",
       "      <td>Classic</td>\n",
       "      <td>Info</td>\n",
       "      <td>15</td>\n",
       "      <td>4</td>\n",
       "      <td>3266</td>\n",
       "      <td>Updated Windows Defender status successfully t...</td>\n",
       "      <td>No</td>\n",
       "    </tr>\n",
       "  </tbody>\n",
       "</table>\n",
       "</div>"
      ],
      "text/plain": [
       "       LogName        Date      Time ComputerName  \\\n",
       "0  Application  2023-09-22  00:10:15    CLIENT-PC   \n",
       "1       System  2023-09-22  00:10:01    CLIENT-PC   \n",
       "2  Application  2023-09-22  00:09:45    CLIENT-PC   \n",
       "\n",
       "                         SourceName TaskCategory  EventType Keywords OpCode  \\\n",
       "0    Microsoft-Windows-Security-SPP          NaN          4  Classic    NaN   \n",
       "1  Microsoft-Windows-Kernel-General          NaN          4      NaN   Info   \n",
       "2                    SecurityCenter          NaN          4  Classic   Info   \n",
       "\n",
       "   EventCode  Type  RecordNumber  \\\n",
       "0      16384     4          3267   \n",
       "1         16     4          2279   \n",
       "2         15     4          3266   \n",
       "\n",
       "                                             Message isMalicious  \n",
       "0  Successfully scheduled Software Protection ser...          No  \n",
       "1  The access history in hive \\??\\C:\\Users\\Commun...          No  \n",
       "2  Updated Windows Defender status successfully t...          No  "
      ]
     },
     "execution_count": 6,
     "metadata": {},
     "output_type": "execute_result"
    }
   ],
   "source": [
    "df_merged = pd.concat([df_good, df_bad], ignore_index=True, sort=False)\n",
    "df_merged.head(3)"
   ]
  },
  {
   "cell_type": "code",
   "execution_count": 7,
   "metadata": {},
   "outputs": [
    {
     "name": "stdout",
     "output_type": "stream",
     "text": [
      "df_good shape: (351, 14)\n",
      "df_bad shape: (20472, 14)\n",
      "df_merged shape: (20823, 14)\n"
     ]
    }
   ],
   "source": [
    "print('df_good shape:', df_good.shape)\n",
    "print('df_bad shape:', df_bad.shape)\n",
    "print('df_merged shape:', df_merged.shape)"
   ]
  },
  {
   "cell_type": "markdown",
   "metadata": {},
   "source": [
    "Let's see what event codes we have:"
   ]
  },
  {
   "cell_type": "code",
   "execution_count": 8,
   "metadata": {},
   "outputs": [
    {
     "data": {
      "text/plain": [
       "<Axes: xlabel='EventCode'>"
      ]
     },
     "execution_count": 8,
     "metadata": {},
     "output_type": "execute_result"
    },
    {
     "data": {
      "image/png": "[encoded data removed]",
      "text/plain": [
       "<Figure size 1600x400 with 1 Axes>"
      ]
     },
     "metadata": {},
     "output_type": "display_data"
    }
   ],
   "source": [
    "plt.figure(figsize=(16,4))\n",
    "df_merged['EventCode'].value_counts().plot.bar()"
   ]
  },
  {
   "cell_type": "markdown",
   "metadata": {},
   "source": [
    "Let's save our new dataset as <b>'labeled_dataset.csv'</b>:"
   ]
  },
  {
   "cell_type": "code",
   "execution_count": 9,
   "metadata": {},
   "outputs": [],
   "source": [
    "df_merged.to_csv('labeled_dataset.csv', index=False)"
   ]
  }
 ],
 "metadata": {
  "kernelspec": {
   "display_name": "Python 3",
   "language": "python",
   "name": "python3"
  },
  "language_info": {
   "codemirror_mode": {
    "name": "ipython",
    "version": 3
   },
   "file_extension": ".py",
   "mimetype": "text/x-python",
   "name": "python",
   "nbconvert_exporter": "python",
   "pygments_lexer": "ipython3",
   "version": "3.11.3"
  },
  "orig_nbformat": 4
 },
 "nbformat": 4,
 "nbformat_minor": 2
}
