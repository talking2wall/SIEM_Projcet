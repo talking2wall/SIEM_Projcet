{
 "cells": [
  {
   "cell_type": "code",
   "execution_count": 1,
   "metadata": {},
   "outputs": [],
   "source": [
    "import pandas as pd\n",
    "import numpy as np\n",
    "import seaborn as sns\n",
    "import matplotlib.pyplot as plt\n",
    "import re"
   ]
  },
  {
   "cell_type": "code",
   "execution_count": 2,
   "metadata": {},
   "outputs": [
    {
     "data": {
      "text/html": [
       "<div>\n",
       "<style scoped>\n",
       "    .dataframe tbody tr th:only-of-type {\n",
       "        vertical-align: middle;\n",
       "    }\n",
       "\n",
       "    .dataframe tbody tr th {\n",
       "        vertical-align: top;\n",
       "    }\n",
       "\n",
       "    .dataframe thead th {\n",
       "        text-align: right;\n",
       "    }\n",
       "</style>\n",
       "<table border=\"1\" class=\"dataframe\">\n",
       "  <thead>\n",
       "    <tr style=\"text-align: right;\">\n",
       "      <th></th>\n",
       "      <th>Access_Mask</th>\n",
       "      <th>Access_Reasons</th>\n",
       "      <th>Accesses</th>\n",
       "      <th>Account_Domain</th>\n",
       "      <th>Account_Name</th>\n",
       "      <th>Application_Name</th>\n",
       "      <th>Authentication_Package</th>\n",
       "      <th>ClientProcessId</th>\n",
       "      <th>ComputerName</th>\n",
       "      <th>Creator_Process_ID</th>\n",
       "      <th>...</th>\n",
       "      <th>host</th>\n",
       "      <th>index</th>\n",
       "      <th>linecount</th>\n",
       "      <th>punct</th>\n",
       "      <th>source</th>\n",
       "      <th>sourcetype</th>\n",
       "      <th>splunk_server</th>\n",
       "      <th>splunk_server_group</th>\n",
       "      <th>tag</th>\n",
       "      <th>tag::eventtype</th>\n",
       "    </tr>\n",
       "  </thead>\n",
       "  <tbody>\n",
       "    <tr>\n",
       "      <th>0</th>\n",
       "      <td>NaN</td>\n",
       "      <td>NaN</td>\n",
       "      <td>NaN</td>\n",
       "      <td>WORKGROUP\\nCLIENT-PC</td>\n",
       "      <td>CLIENT-PC$\\nCommunication_LTD</td>\n",
       "      <td>NaN</td>\n",
       "      <td>NaN</td>\n",
       "      <td>NaN</td>\n",
       "      <td>CLIENT-PC</td>\n",
       "      <td>0x2fc</td>\n",
       "      <td>...</td>\n",
       "      <td>CLIENT-PC</td>\n",
       "      <td>main</td>\n",
       "      <td>NaN</td>\n",
       "      <td>//_::_====-=___.===_=_==_____.\\r\\r_:\\rt_:tt---...</td>\n",
       "      <td>WinEventLog:Security</td>\n",
       "      <td>WinEventLog:Security</td>\n",
       "      <td>SIEM</td>\n",
       "      <td>NaN</td>\n",
       "      <td>NaN</td>\n",
       "      <td>NaN</td>\n",
       "    </tr>\n",
       "    <tr>\n",
       "      <th>1</th>\n",
       "      <td>NaN</td>\n",
       "      <td>NaN</td>\n",
       "      <td>NaN</td>\n",
       "      <td>NaN</td>\n",
       "      <td>NaN</td>\n",
       "      <td>-</td>\n",
       "      <td>NaN</td>\n",
       "      <td>NaN</td>\n",
       "      <td>CLIENT-PC</td>\n",
       "      <td>NaN</td>\n",
       "      <td>...</td>\n",
       "      <td>CLIENT-PC</td>\n",
       "      <td>main</td>\n",
       "      <td>NaN</td>\n",
       "      <td>//_::_====-=___.===_=___==_______.\\r\\r_:\\rt_:t...</td>\n",
       "      <td>WinEventLog:Security</td>\n",
       "      <td>WinEventLog:Security</td>\n",
       "      <td>SIEM</td>\n",
       "      <td>NaN</td>\n",
       "      <td>NaN</td>\n",
       "      <td>NaN</td>\n",
       "    </tr>\n",
       "  </tbody>\n",
       "</table>\n",
       "<p>2 rows × 97 columns</p>\n",
       "</div>"
      ],
      "text/plain": [
       "  Access_Mask Access_Reasons Accesses        Account_Domain  \\\n",
       "0         NaN            NaN      NaN  WORKGROUP\\nCLIENT-PC   \n",
       "1         NaN            NaN      NaN                   NaN   \n",
       "\n",
       "                    Account_Name Application_Name Authentication_Package  \\\n",
       "0  CLIENT-PC$\\nCommunication_LTD              NaN                    NaN   \n",
       "1                            NaN                -                    NaN   \n",
       "\n",
       "   ClientProcessId ComputerName Creator_Process_ID  ...       host index  \\\n",
       "0              NaN    CLIENT-PC              0x2fc  ...  CLIENT-PC  main   \n",
       "1              NaN    CLIENT-PC                NaN  ...  CLIENT-PC  main   \n",
       "\n",
       "   linecount                                              punct  \\\n",
       "0        NaN  //_::_====-=___.===_=_==_____.\\r\\r_:\\rt_:tt---...   \n",
       "1        NaN  //_::_====-=___.===_=___==_______.\\r\\r_:\\rt_:t...   \n",
       "\n",
       "                 source            sourcetype  splunk_server  \\\n",
       "0  WinEventLog:Security  WinEventLog:Security           SIEM   \n",
       "1  WinEventLog:Security  WinEventLog:Security           SIEM   \n",
       "\n",
       "  splunk_server_group tag  tag::eventtype  \n",
       "0                 NaN NaN             NaN  \n",
       "1                 NaN NaN             NaN  \n",
       "\n",
       "[2 rows x 97 columns]"
      ]
     },
     "execution_count": 2,
     "metadata": {},
     "output_type": "execute_result"
    }
   ],
   "source": [
    "df = pd.read_csv('bad_samples.csv')\n",
    "\n",
    "df.head(2)"
   ]
  },
  {
   "cell_type": "code",
   "execution_count": 3,
   "metadata": {},
   "outputs": [
    {
     "data": {
      "text/html": [
       "<div>\n",
       "<style scoped>\n",
       "    .dataframe tbody tr th:only-of-type {\n",
       "        vertical-align: middle;\n",
       "    }\n",
       "\n",
       "    .dataframe tbody tr th {\n",
       "        vertical-align: top;\n",
       "    }\n",
       "\n",
       "    .dataframe thead th {\n",
       "        text-align: right;\n",
       "    }\n",
       "</style>\n",
       "<table border=\"1\" class=\"dataframe\">\n",
       "  <thead>\n",
       "    <tr style=\"text-align: right;\">\n",
       "      <th></th>\n",
       "      <th>LogName</th>\n",
       "      <th>Date</th>\n",
       "      <th>Time</th>\n",
       "      <th>ComputerName</th>\n",
       "      <th>SourceName</th>\n",
       "      <th>TaskCategory</th>\n",
       "      <th>EventType</th>\n",
       "      <th>Keywords</th>\n",
       "      <th>OpCode</th>\n",
       "      <th>EventCode</th>\n",
       "      <th>Type</th>\n",
       "      <th>RecordNumber</th>\n",
       "      <th>Message</th>\n",
       "    </tr>\n",
       "  </thead>\n",
       "  <tbody>\n",
       "    <tr>\n",
       "      <th>0</th>\n",
       "      <td>Security</td>\n",
       "      <td>08/26/2023</td>\n",
       "      <td>05:20:24 PM</td>\n",
       "      <td>CLIENT-PC</td>\n",
       "      <td>Microsoft Windows security auditing.</td>\n",
       "      <td>Process Creation</td>\n",
       "      <td>0</td>\n",
       "      <td>Audit Success</td>\n",
       "      <td>Info</td>\n",
       "      <td>4688</td>\n",
       "      <td>0</td>\n",
       "      <td>182305</td>\n",
       "      <td>A new process has been created.</td>\n",
       "    </tr>\n",
       "    <tr>\n",
       "      <th>1</th>\n",
       "      <td>Security</td>\n",
       "      <td>08/26/2023</td>\n",
       "      <td>05:20:24 PM</td>\n",
       "      <td>CLIENT-PC</td>\n",
       "      <td>Microsoft Windows security auditing.</td>\n",
       "      <td>Filtering Platform Packet Drop</td>\n",
       "      <td>0</td>\n",
       "      <td>Audit Failure</td>\n",
       "      <td>Info</td>\n",
       "      <td>5152</td>\n",
       "      <td>0</td>\n",
       "      <td>182306</td>\n",
       "      <td>The Windows Filtering Platform has blocked a p...</td>\n",
       "    </tr>\n",
       "    <tr>\n",
       "      <th>2</th>\n",
       "      <td>Security</td>\n",
       "      <td>08/26/2023</td>\n",
       "      <td>05:20:24 PM</td>\n",
       "      <td>CLIENT-PC</td>\n",
       "      <td>Microsoft Windows security auditing.</td>\n",
       "      <td>Filtering Platform Packet Drop</td>\n",
       "      <td>0</td>\n",
       "      <td>Audit Failure</td>\n",
       "      <td>Info</td>\n",
       "      <td>5152</td>\n",
       "      <td>0</td>\n",
       "      <td>182307</td>\n",
       "      <td>The Windows Filtering Platform has blocked a p...</td>\n",
       "    </tr>\n",
       "    <tr>\n",
       "      <th>3</th>\n",
       "      <td>Security</td>\n",
       "      <td>08/26/2023</td>\n",
       "      <td>05:20:24 PM</td>\n",
       "      <td>CLIENT-PC</td>\n",
       "      <td>Microsoft Windows security auditing.</td>\n",
       "      <td>Filtering Platform Packet Drop</td>\n",
       "      <td>0</td>\n",
       "      <td>Audit Failure</td>\n",
       "      <td>Info</td>\n",
       "      <td>5152</td>\n",
       "      <td>0</td>\n",
       "      <td>182308</td>\n",
       "      <td>The Windows Filtering Platform has blocked a p...</td>\n",
       "    </tr>\n",
       "    <tr>\n",
       "      <th>4</th>\n",
       "      <td>Security</td>\n",
       "      <td>08/26/2023</td>\n",
       "      <td>05:20:24 PM</td>\n",
       "      <td>CLIENT-PC</td>\n",
       "      <td>Microsoft Windows security auditing.</td>\n",
       "      <td>Filtering Platform Packet Drop</td>\n",
       "      <td>0</td>\n",
       "      <td>Audit Failure</td>\n",
       "      <td>Info</td>\n",
       "      <td>5152</td>\n",
       "      <td>0</td>\n",
       "      <td>182309</td>\n",
       "      <td>The Windows Filtering Platform has blocked a p...</td>\n",
       "    </tr>\n",
       "  </tbody>\n",
       "</table>\n",
       "</div>"
      ],
      "text/plain": [
       "    LogName        Date         Time ComputerName  \\\n",
       "0  Security  08/26/2023  05:20:24 PM    CLIENT-PC   \n",
       "1  Security  08/26/2023  05:20:24 PM    CLIENT-PC   \n",
       "2  Security  08/26/2023  05:20:24 PM    CLIENT-PC   \n",
       "3  Security  08/26/2023  05:20:24 PM    CLIENT-PC   \n",
       "4  Security  08/26/2023  05:20:24 PM    CLIENT-PC   \n",
       "\n",
       "                             SourceName                    TaskCategory  \\\n",
       "0  Microsoft Windows security auditing.                Process Creation   \n",
       "1  Microsoft Windows security auditing.  Filtering Platform Packet Drop   \n",
       "2  Microsoft Windows security auditing.  Filtering Platform Packet Drop   \n",
       "3  Microsoft Windows security auditing.  Filtering Platform Packet Drop   \n",
       "4  Microsoft Windows security auditing.  Filtering Platform Packet Drop   \n",
       "\n",
       "  EventType       Keywords OpCode EventCode Type RecordNumber  \\\n",
       "0         0  Audit Success   Info      4688    0       182305   \n",
       "1         0  Audit Failure   Info      5152    0       182306   \n",
       "2         0  Audit Failure   Info      5152    0       182307   \n",
       "3         0  Audit Failure   Info      5152    0       182308   \n",
       "4         0  Audit Failure   Info      5152    0       182309   \n",
       "\n",
       "                                             Message  \n",
       "0                    A new process has been created.  \n",
       "1  The Windows Filtering Platform has blocked a p...  \n",
       "2  The Windows Filtering Platform has blocked a p...  \n",
       "3  The Windows Filtering Platform has blocked a p...  \n",
       "4  The Windows Filtering Platform has blocked a p...  "
      ]
     },
     "execution_count": 3,
     "metadata": {},
     "output_type": "execute_result"
    }
   ],
   "source": [
    "LogName = []\n",
    "Date = []\n",
    "Time = []\n",
    "ComputerName = []\n",
    "SourceName = []\n",
    "TaskCategory = []\n",
    "EventType = []\n",
    "Message = []\n",
    "Keywords = []\n",
    "OpCode = []\n",
    "EventCode = []\n",
    "Type = []\n",
    "RecordNumber = []\n",
    "\n",
    "for i in range(0,len(df)):\n",
    "    current_log = df.iloc[i]['_raw']\n",
    "    Date.append(current_log[0:10])\n",
    "    Time.append(current_log[11:22])\n",
    "    LogName.append(re.search('LogName=(.*)\\n', current_log).group(1))\n",
    "    ComputerName.append(re.search('ComputerName=(.*)\\n', current_log).group(1))\n",
    "    SourceName.append(re.search('SourceName=(.*)\\n', current_log).group(1))\n",
    "    TaskCategory.append(re.search('TaskCategory=(.*)\\n', current_log).group(1))\n",
    "    EventType.append(re.search('EventType=(.*)\\n', current_log).group(1))\n",
    "    Keywords.append(re.search('Keywords=(.*)\\n', current_log).group(1))\n",
    "    OpCode.append(re.search('OpCode=(.*)\\n', current_log).group(1))\n",
    "    EventCode.append(re.search('EventCode=(.*)\\n', current_log).group(1))\n",
    "    Type.append(re.search('Type=(.*)\\n', current_log).group(1))\n",
    "    RecordNumber.append(re.search('RecordNumber=(.*)\\n', current_log).group(1))\n",
    "    Message.append(re.search('Message=(.*)', current_log).group(1))\n",
    "\n",
    "df_cleaned = pd.DataFrame({ 'LogName' : LogName,\n",
    "                         'Date' : Date,\n",
    "                         'Time' : Time,\n",
    "                         'ComputerName' : ComputerName,\n",
    "                         'SourceName' : SourceName,\n",
    "                         'TaskCategory' : TaskCategory,\n",
    "                         'EventType' : EventType,\n",
    "                         'Keywords' : Keywords,\n",
    "                         'OpCode' : OpCode,\n",
    "                         'EventCode' : EventCode,\n",
    "                         'Type' : Type,\n",
    "                         'RecordNumber' : RecordNumber,\n",
    "                         'Message' : Message })\n",
    "\n",
    "df_cleaned.head(5)"
   ]
  },
  {
   "cell_type": "markdown",
   "metadata": {},
   "source": [
    "Let's fix some of the features types:"
   ]
  },
  {
   "cell_type": "code",
   "execution_count": 4,
   "metadata": {},
   "outputs": [
    {
     "data": {
      "text/plain": [
       "LogName                 object\n",
       "Date            datetime64[ns]\n",
       "Time                    object\n",
       "ComputerName            object\n",
       "SourceName              object\n",
       "TaskCategory            object\n",
       "EventType                int32\n",
       "Keywords                object\n",
       "OpCode                  object\n",
       "EventCode                int32\n",
       "Type                     int32\n",
       "RecordNumber             int32\n",
       "Message                 object\n",
       "dtype: object"
      ]
     },
     "execution_count": 4,
     "metadata": {},
     "output_type": "execute_result"
    }
   ],
   "source": [
    "df_cleaned['EventType'] = df_cleaned['EventType'].astype(int)\n",
    "df_cleaned['EventCode'] = df_cleaned['EventCode'].astype(int)\n",
    "df_cleaned['Type'] = df_cleaned['Type'].astype(int)\n",
    "df_cleaned['RecordNumber'] = df_cleaned['RecordNumber'].astype(int)\n",
    "df_cleaned['Date'] = pd.to_datetime(df_cleaned['Date'], format='%m/%d/%Y')\n",
    "df_cleaned['Time'] = pd.to_datetime(df_cleaned['Time'], format='%I:%M:%S %p').dt.time\n",
    "\n",
    "df_cleaned.dtypes"
   ]
  },
  {
   "cell_type": "markdown",
   "metadata": {},
   "source": [
    "Now let's explore what event codes were generated in this attack:"
   ]
  },
  {
   "cell_type": "code",
   "execution_count": 5,
   "metadata": {},
   "outputs": [
    {
     "data": {
      "text/plain": [
       "<Axes: xlabel='EventCode'>"
      ]
     },
     "execution_count": 5,
     "metadata": {},
     "output_type": "execute_result"
    },
    {
     "data": {
      "image/png": "[encoded data removed]",
      "text/plain": [
       "<Figure size 640x480 with 1 Axes>"
      ]
     },
     "metadata": {},
     "output_type": "display_data"
    }
   ],
   "source": [
    "df['EventCode'].value_counts().plot.bar()"
   ]
  },
  {
   "cell_type": "markdown",
   "metadata": {},
   "source": [
    "We can see that we have some logs here that doesn't appear as much as the others, hence they may be outliers for us."
   ]
  },
  {
   "cell_type": "markdown",
   "metadata": {},
   "source": [
    "#### <u>Removing Outliers</u>"
   ]
  },
  {
   "cell_type": "markdown",
   "metadata": {},
   "source": [
    "1. We know that those logs were collected in a time when a malicious activity were happened (Port Scanning).\n",
    "2. Hence, by logic we can remove some of the logs that are not related to this attack."
   ]
  },
  {
   "cell_type": "markdown",
   "metadata": {},
   "source": [
    "First, let's check the messages, to see if they related to the attack:"
   ]
  },
  {
   "cell_type": "code",
   "execution_count": 6,
   "metadata": {},
   "outputs": [
    {
     "name": "stdout",
     "output_type": "stream",
     "text": [
      "EventCode 4663: An attempt was made to access an object.\n",
      "EventCode 4690: An attempt was made to duplicate a handle to an object.\n",
      "EventCode 4656: A handle to an object was requested.\n",
      "EventCode 4624: An account was successfully logged on.\n",
      "EventCode 4627: Group membership information.\n",
      "EventCode 4672: Special privileges assigned to new logon.\n",
      "EventCode 4670: Permissions on an object were changed.\n"
     ]
    }
   ],
   "source": [
    "value_counts = df_cleaned['EventCode'].value_counts()\n",
    "outliers = [key for key, value in value_counts.items() if value < 10]\n",
    "\n",
    "for event_code in outliers:\n",
    "    print('EventCode ' + str(event_code) + ':', df_cleaned[df_cleaned['EventCode'] == event_code]['Message'].iloc[0])"
   ]
  },
  {
   "cell_type": "markdown",
   "metadata": {},
   "source": [
    "These specific logs don't seem to be related to the port scanning attack, as they appear only several times.<br>\n",
    "Therefore, from this perspective we can delete them:"
   ]
  },
  {
   "cell_type": "code",
   "execution_count": 7,
   "metadata": {},
   "outputs": [
    {
     "name": "stdout",
     "output_type": "stream",
     "text": [
      "Before dropping: 3762\n",
      "After dropping: 3740\n",
      "Values after drop: EventCode\n",
      "5152    3586\n",
      "5156      53\n",
      "5158      41\n",
      "4689      20\n",
      "4688      19\n",
      "5157      11\n",
      "4658      10\n",
      "Name: count, dtype: int64\n"
     ]
    }
   ],
   "source": [
    "print('Before dropping:', len(df_cleaned))\n",
    "df_cleaned.drop(df_cleaned.loc[df_cleaned['EventCode'] == 4663].index, inplace=True)\n",
    "df_cleaned.drop(df_cleaned.loc[df_cleaned['EventCode'] == 4690].index, inplace=True)\n",
    "df_cleaned.drop(df_cleaned.loc[df_cleaned['EventCode'] == 4656].index, inplace=True)\n",
    "df_cleaned.drop(df_cleaned.loc[df_cleaned['EventCode'] == 4624].index, inplace=True)\n",
    "df_cleaned.drop(df_cleaned.loc[df_cleaned['EventCode'] == 4627].index, inplace=True)\n",
    "df_cleaned.drop(df_cleaned.loc[df_cleaned['EventCode'] == 4672].index, inplace=True)\n",
    "df_cleaned.drop(df_cleaned.loc[df_cleaned['EventCode'] == 4670].index, inplace=True)\n",
    "print('After dropping:', len(df_cleaned))\n",
    "\n",
    "value_counts = df_cleaned['EventCode'].value_counts()\n",
    "print('Values after drop:', value_counts)"
   ]
  },
  {
   "cell_type": "markdown",
   "metadata": {},
   "source": [
    "Let's see what logs we left with:"
   ]
  },
  {
   "cell_type": "code",
   "execution_count": 8,
   "metadata": {},
   "outputs": [
    {
     "name": "stdout",
     "output_type": "stream",
     "text": [
      "EventCode 5152: The Windows Filtering Platform has blocked a packet.\n",
      "EventCode 5156: The Windows Filtering Platform has permitted a connection.\n",
      "EventCode 5158: The Windows Filtering Platform has permitted a bind to a local port.\n",
      "EventCode 4689: A process has exited.\n",
      "EventCode 4688: A new process has been created.\n",
      "EventCode 5157: The Windows Filtering Platform has blocked a connection.\n",
      "EventCode 4658: The handle to an object was closed.\n"
     ]
    }
   ],
   "source": [
    "value_counts = df_cleaned['EventCode'].value_counts()\n",
    "\n",
    "for pair in value_counts.items():\n",
    "    print('EventCode ' + str(pair[0]) + ':', df_cleaned[df_cleaned['EventCode'] == pair[0]].iloc[0]['Message'])"
   ]
  },
  {
   "cell_type": "markdown",
   "metadata": {},
   "source": [
    "Now that we removed the outliers, we can save our data set as <b>'bad_samples_cleaned.csv'</b>:"
   ]
  },
  {
   "cell_type": "code",
   "execution_count": 9,
   "metadata": {},
   "outputs": [],
   "source": [
    "df_cleaned.to_csv('bad_samples_cleaned.csv', index=False)"
   ]
  },
  {
   "cell_type": "markdown",
   "metadata": {},
   "source": [
    "And let's save another reducted version of the dataset:"
   ]
  },
  {
   "cell_type": "code",
   "execution_count": 10,
   "metadata": {},
   "outputs": [],
   "source": [
    "df_cleaned_reducted = df_cleaned.iloc[0:300]\n",
    "df_cleaned_reducted.to_csv('bad_samples_cleaned_port_scanning_reducted.csv', index=False)"
   ]
  }
 ],
 "metadata": {
  "kernelspec": {
   "display_name": "Python 3",
   "language": "python",
   "name": "python3"
  },
  "language_info": {
   "codemirror_mode": {
    "name": "ipython",
    "version": 3
   },
   "file_extension": ".py",
   "mimetype": "text/x-python",
   "name": "python",
   "nbconvert_exporter": "python",
   "pygments_lexer": "ipython3",
   "version": "3.11.3"
  },
  "orig_nbformat": 4
 },
 "nbformat": 4,
 "nbformat_minor": 2
}
