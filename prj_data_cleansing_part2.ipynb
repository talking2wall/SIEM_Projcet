{
 "cells": [
  {
   "cell_type": "code",
   "execution_count": 1,
   "metadata": {},
   "outputs": [],
   "source": [
    "import pandas as pd\n",
    "import numpy as np\n",
    "import seaborn as sns\n",
    "import matplotlib.pyplot as plt\n",
    "import re"
   ]
  },
  {
   "cell_type": "code",
   "execution_count": 2,
   "metadata": {},
   "outputs": [
    {
     "name": "stderr",
     "output_type": "stream",
     "text": [
      "C:\\Users\\Oren\\AppData\\Local\\Temp\\ipykernel_11672\\4292204702.py:1: DtypeWarning: Columns (8,19,20,22,26,32,33,49,61,72,73,74,85,91,112,113,119,135) have mixed types. Specify dtype option on import or set low_memory=False.\n",
      "  df = pd.read_csv('bad_samples.csv')\n"
     ]
    },
    {
     "data": {
      "text/html": [
       "<div>\n",
       "<style scoped>\n",
       "    .dataframe tbody tr th:only-of-type {\n",
       "        vertical-align: middle;\n",
       "    }\n",
       "\n",
       "    .dataframe tbody tr th {\n",
       "        vertical-align: top;\n",
       "    }\n",
       "\n",
       "    .dataframe thead th {\n",
       "        text-align: right;\n",
       "    }\n",
       "</style>\n",
       "<table border=\"1\" class=\"dataframe\">\n",
       "  <thead>\n",
       "    <tr style=\"text-align: right;\">\n",
       "      <th></th>\n",
       "      <th>Access_Mask</th>\n",
       "      <th>Access_Reasons</th>\n",
       "      <th>Accesses</th>\n",
       "      <th>Account_Domain</th>\n",
       "      <th>Account_Name</th>\n",
       "      <th>Additional_Data</th>\n",
       "      <th>Additional_Information</th>\n",
       "      <th>Advanced_Options</th>\n",
       "      <th>Application_Name</th>\n",
       "      <th>Authentication_Package</th>\n",
       "      <th>...</th>\n",
       "      <th>punct</th>\n",
       "      <th>source</th>\n",
       "      <th>sourcetype</th>\n",
       "      <th>splunk_server</th>\n",
       "      <th>splunk_server_group</th>\n",
       "      <th>tag</th>\n",
       "      <th>tag::eventtype</th>\n",
       "      <th>timeendpos</th>\n",
       "      <th>timestartpos</th>\n",
       "      <th>title</th>\n",
       "    </tr>\n",
       "  </thead>\n",
       "  <tbody>\n",
       "    <tr>\n",
       "      <th>0</th>\n",
       "      <td>NaN</td>\n",
       "      <td>NaN</td>\n",
       "      <td>NaN</td>\n",
       "      <td>CLIENT-PC\\n-</td>\n",
       "      <td>Communication_LTD\\n-</td>\n",
       "      <td>NaN</td>\n",
       "      <td>NaN</td>\n",
       "      <td>NaN</td>\n",
       "      <td>NaN</td>\n",
       "      <td>NaN</td>\n",
       "      <td>...</td>\n",
       "      <td>//_::_====-=___.===_=_==_____.\\r\\r_:\\rt_:tt---...</td>\n",
       "      <td>WinEventLog:Security</td>\n",
       "      <td>WinEventLog:Security</td>\n",
       "      <td>SIEM</td>\n",
       "      <td>NaN</td>\n",
       "      <td>NaN</td>\n",
       "      <td>NaN</td>\n",
       "      <td>NaN</td>\n",
       "      <td>NaN</td>\n",
       "      <td>NaN</td>\n",
       "    </tr>\n",
       "    <tr>\n",
       "      <th>1</th>\n",
       "      <td>NaN</td>\n",
       "      <td>NaN</td>\n",
       "      <td>NaN</td>\n",
       "      <td>CLIENT-PC</td>\n",
       "      <td>Communication_LTD</td>\n",
       "      <td>NaN</td>\n",
       "      <td>NaN</td>\n",
       "      <td>NaN</td>\n",
       "      <td>NaN</td>\n",
       "      <td>NaN</td>\n",
       "      <td>...</td>\n",
       "      <td>//_::_====-=___.===_=__==____.\\r\\r:\\rt_:tt----...</td>\n",
       "      <td>WinEventLog:Security</td>\n",
       "      <td>WinEventLog:Security</td>\n",
       "      <td>SIEM</td>\n",
       "      <td>NaN</td>\n",
       "      <td>NaN</td>\n",
       "      <td>NaN</td>\n",
       "      <td>NaN</td>\n",
       "      <td>NaN</td>\n",
       "      <td>NaN</td>\n",
       "    </tr>\n",
       "  </tbody>\n",
       "</table>\n",
       "<p>2 rows × 206 columns</p>\n",
       "</div>"
      ],
      "text/plain": [
       "  Access_Mask Access_Reasons Accesses Account_Domain          Account_Name  \\\n",
       "0         NaN            NaN      NaN   CLIENT-PC\\n-  Communication_LTD\\n-   \n",
       "1         NaN            NaN      NaN      CLIENT-PC     Communication_LTD   \n",
       "\n",
       "   Additional_Data  Additional_Information  Advanced_Options Application_Name  \\\n",
       "0              NaN                     NaN               NaN              NaN   \n",
       "1              NaN                     NaN               NaN              NaN   \n",
       "\n",
       "   Authentication_Package  ...  \\\n",
       "0                     NaN  ...   \n",
       "1                     NaN  ...   \n",
       "\n",
       "                                               punct                source  \\\n",
       "0  //_::_====-=___.===_=_==_____.\\r\\r_:\\rt_:tt---...  WinEventLog:Security   \n",
       "1  //_::_====-=___.===_=__==____.\\r\\r:\\rt_:tt----...  WinEventLog:Security   \n",
       "\n",
       "             sourcetype  splunk_server  splunk_server_group  tag  \\\n",
       "0  WinEventLog:Security           SIEM                  NaN  NaN   \n",
       "1  WinEventLog:Security           SIEM                  NaN  NaN   \n",
       "\n",
       "   tag::eventtype timeendpos  timestartpos title  \n",
       "0             NaN        NaN           NaN   NaN  \n",
       "1             NaN        NaN           NaN   NaN  \n",
       "\n",
       "[2 rows x 206 columns]"
      ]
     },
     "execution_count": 2,
     "metadata": {},
     "output_type": "execute_result"
    }
   ],
   "source": [
    "df = pd.read_csv('bad_samples.csv')\n",
    "\n",
    "df.head(2)"
   ]
  },
  {
   "cell_type": "code",
   "execution_count": 3,
   "metadata": {},
   "outputs": [
    {
     "data": {
      "text/html": [
       "<div>\n",
       "<style scoped>\n",
       "    .dataframe tbody tr th:only-of-type {\n",
       "        vertical-align: middle;\n",
       "    }\n",
       "\n",
       "    .dataframe tbody tr th {\n",
       "        vertical-align: top;\n",
       "    }\n",
       "\n",
       "    .dataframe thead th {\n",
       "        text-align: right;\n",
       "    }\n",
       "</style>\n",
       "<table border=\"1\" class=\"dataframe\">\n",
       "  <thead>\n",
       "    <tr style=\"text-align: right;\">\n",
       "      <th></th>\n",
       "      <th>LogName</th>\n",
       "      <th>Date</th>\n",
       "      <th>Time</th>\n",
       "      <th>ComputerName</th>\n",
       "      <th>SourceName</th>\n",
       "      <th>TaskCategory</th>\n",
       "      <th>EventType</th>\n",
       "      <th>Keywords</th>\n",
       "      <th>OpCode</th>\n",
       "      <th>EventCode</th>\n",
       "      <th>Type</th>\n",
       "      <th>RecordNumber</th>\n",
       "      <th>Message</th>\n",
       "    </tr>\n",
       "  </thead>\n",
       "  <tbody>\n",
       "    <tr>\n",
       "      <th>0</th>\n",
       "      <td>Security</td>\n",
       "      <td>08/26/2023</td>\n",
       "      <td>06:08:41 PM</td>\n",
       "      <td>CLIENT-PC</td>\n",
       "      <td>Microsoft Windows security auditing.</td>\n",
       "      <td>Process Creation</td>\n",
       "      <td>0</td>\n",
       "      <td>Audit Success</td>\n",
       "      <td>Info</td>\n",
       "      <td>4688</td>\n",
       "      <td>0</td>\n",
       "      <td>248577</td>\n",
       "      <td>A new process has been created.</td>\n",
       "    </tr>\n",
       "    <tr>\n",
       "      <th>1</th>\n",
       "      <td>Security</td>\n",
       "      <td>08/26/2023</td>\n",
       "      <td>06:08:41 PM</td>\n",
       "      <td>CLIENT-PC</td>\n",
       "      <td>Microsoft Windows security auditing.</td>\n",
       "      <td>Sensitive Privilege Use</td>\n",
       "      <td>0</td>\n",
       "      <td>Audit Failure</td>\n",
       "      <td>Info</td>\n",
       "      <td>4673</td>\n",
       "      <td>0</td>\n",
       "      <td>248578</td>\n",
       "      <td>A privileged service was called.</td>\n",
       "    </tr>\n",
       "    <tr>\n",
       "      <th>2</th>\n",
       "      <td>Security</td>\n",
       "      <td>08/26/2023</td>\n",
       "      <td>06:08:41 PM</td>\n",
       "      <td>CLIENT-PC</td>\n",
       "      <td>Microsoft Windows security auditing.</td>\n",
       "      <td>Handle Manipulation</td>\n",
       "      <td>0</td>\n",
       "      <td>Audit Success</td>\n",
       "      <td>Info</td>\n",
       "      <td>4690</td>\n",
       "      <td>0</td>\n",
       "      <td>248579</td>\n",
       "      <td>An attempt was made to duplicate a handle to a...</td>\n",
       "    </tr>\n",
       "    <tr>\n",
       "      <th>3</th>\n",
       "      <td>Security</td>\n",
       "      <td>08/26/2023</td>\n",
       "      <td>06:08:41 PM</td>\n",
       "      <td>CLIENT-PC</td>\n",
       "      <td>Microsoft Windows security auditing.</td>\n",
       "      <td>File System</td>\n",
       "      <td>0</td>\n",
       "      <td>Audit Success</td>\n",
       "      <td>Info</td>\n",
       "      <td>4658</td>\n",
       "      <td>0</td>\n",
       "      <td>248580</td>\n",
       "      <td>The handle to an object was closed.</td>\n",
       "    </tr>\n",
       "    <tr>\n",
       "      <th>4</th>\n",
       "      <td>Security</td>\n",
       "      <td>08/26/2023</td>\n",
       "      <td>06:08:41 PM</td>\n",
       "      <td>CLIENT-PC</td>\n",
       "      <td>Microsoft Windows security auditing.</td>\n",
       "      <td>File System</td>\n",
       "      <td>0</td>\n",
       "      <td>Audit Success</td>\n",
       "      <td>Info</td>\n",
       "      <td>4656</td>\n",
       "      <td>0</td>\n",
       "      <td>248581</td>\n",
       "      <td>A handle to an object was requested.</td>\n",
       "    </tr>\n",
       "  </tbody>\n",
       "</table>\n",
       "</div>"
      ],
      "text/plain": [
       "    LogName        Date         Time ComputerName  \\\n",
       "0  Security  08/26/2023  06:08:41 PM    CLIENT-PC   \n",
       "1  Security  08/26/2023  06:08:41 PM    CLIENT-PC   \n",
       "2  Security  08/26/2023  06:08:41 PM    CLIENT-PC   \n",
       "3  Security  08/26/2023  06:08:41 PM    CLIENT-PC   \n",
       "4  Security  08/26/2023  06:08:41 PM    CLIENT-PC   \n",
       "\n",
       "                             SourceName             TaskCategory EventType  \\\n",
       "0  Microsoft Windows security auditing.         Process Creation         0   \n",
       "1  Microsoft Windows security auditing.  Sensitive Privilege Use         0   \n",
       "2  Microsoft Windows security auditing.      Handle Manipulation         0   \n",
       "3  Microsoft Windows security auditing.              File System         0   \n",
       "4  Microsoft Windows security auditing.              File System         0   \n",
       "\n",
       "        Keywords OpCode EventCode Type RecordNumber  \\\n",
       "0  Audit Success   Info      4688    0       248577   \n",
       "1  Audit Failure   Info      4673    0       248578   \n",
       "2  Audit Success   Info      4690    0       248579   \n",
       "3  Audit Success   Info      4658    0       248580   \n",
       "4  Audit Success   Info      4656    0       248581   \n",
       "\n",
       "                                             Message  \n",
       "0                    A new process has been created.  \n",
       "1                   A privileged service was called.  \n",
       "2  An attempt was made to duplicate a handle to a...  \n",
       "3                The handle to an object was closed.  \n",
       "4               A handle to an object was requested.  "
      ]
     },
     "execution_count": 3,
     "metadata": {},
     "output_type": "execute_result"
    }
   ],
   "source": [
    "LogName = []\n",
    "Date = []\n",
    "Time = []\n",
    "ComputerName = []\n",
    "SourceName = []\n",
    "TaskCategory = []\n",
    "EventType = []\n",
    "Message = []\n",
    "Keywords = []\n",
    "OpCode = []\n",
    "EventCode = []\n",
    "Type = []\n",
    "RecordNumber = []\n",
    "\n",
    "for i in range(0,len(df)):\n",
    "    current_log = df.iloc[i]['_raw']\n",
    "    Date.append(current_log[0:10])\n",
    "    Time.append(current_log[11:22])\n",
    "    LogName.append(re.search('LogName=(.*)\\n', current_log).group(1))\n",
    "    ComputerName.append(re.search('ComputerName=(.*)\\n', current_log).group(1))\n",
    "    SourceName.append(re.search('SourceName=(.*)\\n', current_log).group(1))\n",
    "    TaskCategory.append(re.search('TaskCategory=(.*)\\n', current_log).group(1))\n",
    "    EventType.append(re.search('EventType=(.*)\\n', current_log).group(1))\n",
    "    Keywords.append(re.search('Keywords=(.*)\\n', current_log).group(1))\n",
    "    OpCode.append(re.search('OpCode=(.*)\\n', current_log).group(1))\n",
    "    EventCode.append(re.search('EventCode=(.*)\\n', current_log).group(1))\n",
    "    Type.append(re.search('Type=(.*)\\n', current_log).group(1))\n",
    "    RecordNumber.append(re.search('RecordNumber=(.*)\\n', current_log).group(1))\n",
    "    Message.append(re.search('Message=(.*)', current_log).group(1))\n",
    "\n",
    "df_cleaned = pd.DataFrame({ 'LogName' : LogName,\n",
    "                         'Date' : Date,\n",
    "                         'Time' : Time,\n",
    "                         'ComputerName' : ComputerName,\n",
    "                         'SourceName' : SourceName,\n",
    "                         'TaskCategory' : TaskCategory,\n",
    "                         'EventType' : EventType,\n",
    "                         'Keywords' : Keywords,\n",
    "                         'OpCode' : OpCode,\n",
    "                         'EventCode' : EventCode,\n",
    "                         'Type' : Type,\n",
    "                         'RecordNumber' : RecordNumber,\n",
    "                         'Message' : Message })\n",
    "\n",
    "df_cleaned.head(5)"
   ]
  },
  {
   "cell_type": "markdown",
   "metadata": {},
   "source": [
    "Let's fix some of the features types:"
   ]
  },
  {
   "cell_type": "code",
   "execution_count": 4,
   "metadata": {},
   "outputs": [
    {
     "data": {
      "text/plain": [
       "LogName                 object\n",
       "Date            datetime64[ns]\n",
       "Time                    object\n",
       "ComputerName            object\n",
       "SourceName              object\n",
       "TaskCategory            object\n",
       "EventType                int32\n",
       "Keywords                object\n",
       "OpCode                  object\n",
       "EventCode                int32\n",
       "Type                     int32\n",
       "RecordNumber             int32\n",
       "Message                 object\n",
       "dtype: object"
      ]
     },
     "execution_count": 4,
     "metadata": {},
     "output_type": "execute_result"
    }
   ],
   "source": [
    "df_cleaned['EventType'] = df_cleaned['EventType'].astype(int)\n",
    "df_cleaned['EventCode'] = df_cleaned['EventCode'].astype(int)\n",
    "df_cleaned['Type'] = df_cleaned['Type'].astype(int)\n",
    "df_cleaned['RecordNumber'] = df_cleaned['RecordNumber'].astype(int)\n",
    "df_cleaned['Date'] = pd.to_datetime(df_cleaned['Date'], format='%m/%d/%Y')\n",
    "df_cleaned['Time'] = pd.to_datetime(df_cleaned['Time'], format='%I:%M:%S %p').dt.time\n",
    "\n",
    "df_cleaned.dtypes"
   ]
  },
  {
   "cell_type": "markdown",
   "metadata": {},
   "source": [
    "Now let's explore what event codes were generated in this attack:"
   ]
  },
  {
   "cell_type": "code",
   "execution_count": 5,
   "metadata": {},
   "outputs": [
    {
     "data": {
      "text/plain": [
       "<Axes: xlabel='EventCode'>"
      ]
     },
     "execution_count": 5,
     "metadata": {},
     "output_type": "execute_result"
    },
    {
     "data": {
      "image/png": "[encoded data removed]",
      "text/plain": [
       "<Figure size 640x480 with 1 Axes>"
      ]
     },
     "metadata": {},
     "output_type": "display_data"
    }
   ],
   "source": [
    "df['EventCode'].value_counts().plot.bar()"
   ]
  },
  {
   "cell_type": "markdown",
   "metadata": {},
   "source": [
    "We can see that we have some logs here that doesn't appear as much as the others, hence they may be outliers for us."
   ]
  },
  {
   "cell_type": "markdown",
   "metadata": {},
   "source": [
    "#### <u>Removing Outliers</u>"
   ]
  },
  {
   "cell_type": "markdown",
   "metadata": {},
   "source": [
    "1. We know that those logs were collected in a time when a malicious script was running (File encryptor).\n",
    "2. Hence, by logic we can remove some of the logs that are not related to this attack."
   ]
  },
  {
   "cell_type": "markdown",
   "metadata": {},
   "source": [
    "First, let's check the messages, to see if they related to the attack:"
   ]
  },
  {
   "cell_type": "code",
   "execution_count": 6,
   "metadata": {},
   "outputs": [
    {
     "name": "stdout",
     "output_type": "stream",
     "text": [
      "EventCode 5158: The Windows Filtering Platform has permitted a bind to a local port.\n",
      "EventCode 5156: The Windows Filtering Platform has permitted a connection.\n",
      "EventCode 4688: A new process has been created.\n",
      "EventCode 4689: A process has exited.\n",
      "EventCode 4673: A privileged service was called.\n",
      "EventCode 5152: The Windows Filtering Platform has blocked a packet.\n",
      "EventCode 4670: Permissions on an object were changed.\n"
     ]
    }
   ],
   "source": [
    "value_counts = df_cleaned['EventCode'].value_counts()\n",
    "outliers = [key for key, value in value_counts.items() if value < 50]\n",
    "\n",
    "for event_code in outliers:\n",
    "    print('EventCode ' + str(event_code) + ':', df_cleaned[df_cleaned['EventCode'] == event_code]['Message'].iloc[0])"
   ]
  },
  {
   "cell_type": "markdown",
   "metadata": {},
   "source": [
    "We are certainly sure that we haven't made an intentional internet connection while we tested our encryption script.<br>\n",
    "Therefore, from this perspective, event codes 5152, 5156, and 5158 are indeed outliers, so we can delete them:"
   ]
  },
  {
   "cell_type": "code",
   "execution_count": 7,
   "metadata": {},
   "outputs": [
    {
     "name": "stdout",
     "output_type": "stream",
     "text": [
      "Before dropping: 20502\n",
      "After dropping: 20472\n",
      "Values after drop: EventCode\n",
      "4658    7325\n",
      "4663    5237\n",
      "4690    3724\n",
      "4656    3601\n",
      "4660     585\n",
      "Name: count, dtype: int64\n"
     ]
    }
   ],
   "source": [
    "print('Before dropping:', len(df_cleaned))\n",
    "df_cleaned.drop(df_cleaned.loc[df_cleaned['EventCode'] == 5152].index, inplace=True)\n",
    "df_cleaned.drop(df_cleaned.loc[df_cleaned['EventCode'] == 5156].index, inplace=True)\n",
    "df_cleaned.drop(df_cleaned.loc[df_cleaned['EventCode'] == 5158].index, inplace=True)\n",
    "df_cleaned.drop(df_cleaned.loc[df_cleaned['EventCode'] == 4688].index, inplace=True)\n",
    "df_cleaned.drop(df_cleaned.loc[df_cleaned['EventCode'] == 4689].index, inplace=True)\n",
    "df_cleaned.drop(df_cleaned.loc[df_cleaned['EventCode'] == 4673].index, inplace=True)\n",
    "df_cleaned.drop(df_cleaned.loc[df_cleaned['EventCode'] == 4670].index, inplace=True)\n",
    "print('After dropping:', len(df_cleaned))\n",
    "\n",
    "value_counts = df_cleaned['EventCode'].value_counts()\n",
    "print('Values after drop:', value_counts)"
   ]
  },
  {
   "cell_type": "markdown",
   "metadata": {},
   "source": [
    "Let's see what logs we left with:"
   ]
  },
  {
   "cell_type": "code",
   "execution_count": 8,
   "metadata": {},
   "outputs": [
    {
     "name": "stdout",
     "output_type": "stream",
     "text": [
      "EventCode 4658: The handle to an object was closed.\n",
      "EventCode 4663: An attempt was made to access an object.\n",
      "EventCode 4690: An attempt was made to duplicate a handle to an object.\n",
      "EventCode 4656: A handle to an object was requested.\n",
      "EventCode 4660: An object was deleted.\n"
     ]
    }
   ],
   "source": [
    "value_counts = df_cleaned['EventCode'].value_counts()\n",
    "\n",
    "for pair in value_counts.items():\n",
    "    print('EventCode ' + str(pair[0]) + ':', df_cleaned[df_cleaned['EventCode'] == pair[0]].iloc[0]['Message'])"
   ]
  },
  {
   "cell_type": "markdown",
   "metadata": {},
   "source": [
    "Now that we removed the outliers, we can save our data set as <b>'bad_samples_cleaned.csv'</b>:"
   ]
  },
  {
   "cell_type": "code",
   "execution_count": 9,
   "metadata": {},
   "outputs": [],
   "source": [
    "df_cleaned.to_csv('bad_samples_cleaned.csv', index=False)"
   ]
  }
 ],
 "metadata": {
  "kernelspec": {
   "display_name": "Python 3",
   "language": "python",
   "name": "python3"
  },
  "language_info": {
   "codemirror_mode": {
    "name": "ipython",
    "version": 3
   },
   "file_extension": ".py",
   "mimetype": "text/x-python",
   "name": "python",
   "nbconvert_exporter": "python",
   "pygments_lexer": "ipython3",
   "version": "3.11.3"
  },
  "orig_nbformat": 4
 },
 "nbformat": 4,
 "nbformat_minor": 2
}
