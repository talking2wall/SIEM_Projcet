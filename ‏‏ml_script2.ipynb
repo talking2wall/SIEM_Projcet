{
 "cells": [
  {
   "cell_type": "code",
   "execution_count": 1,
   "metadata": {},
   "outputs": [],
   "source": [
    "import pandas as pd\n",
    "import numpy as np\n",
    "import seaborn as sns\n",
    "import matplotlib.pyplot as plt\n",
    "import pickle\n",
    "import pandas as pd\n",
    "from sklearn.feature_extraction.text import TfidfVectorizer\n",
    "from sklearn.feature_extraction.text import CountVectorizer\n",
    "from sklearn.model_selection import train_test_split\n",
    "from sklearn.ensemble import RandomForestClassifier\n",
    "from sklearn.metrics import classification_report\n",
    "from sklearn.metrics import accuracy_score"
   ]
  },
  {
   "cell_type": "code",
   "execution_count": 2,
   "metadata": {},
   "outputs": [],
   "source": [
    "# Load the saved model from the file\n",
    "#nb_classifier = joblib.load('multinomial_nb_model.pkl')\n",
    "with open('random_forest_model.pkl', 'rb') as f:\n",
    "    tfidf_vectorizer, model = pickle.load(f)\n"
   ]
  },
  {
   "cell_type": "code",
   "execution_count": 19,
   "metadata": {},
   "outputs": [
    {
     "name": "stdout",
     "output_type": "stream",
     "text": [
      "The new dataset contains potentially malicious logs.\n",
      "Credential Guard configuration: 0x0, 0\n",
      "A primary token was assigned to process.\n",
      "Connectivity state in standby: Disconnected, Reason: NIC compliance\n"
     ]
    }
   ],
   "source": [
    "df = pd.read_csv('labeled_dataset.csv')\n",
    "X_train, X_test, y_train, y_test = train_test_split(df['Message'], df['isMalicious'], test_size=0.2, random_state=42)\n",
    "new_data_tfidf = tfidf_vectorizer.transform(X_test)\n",
    "predicted_probabilities = model.predict_proba(new_data_tfidf)\n",
    "\n",
    "# Determine which logs in the new dataset are potentially malicious (IsMalicious=1)\n",
    "new_potentially_malicious_logs = []\n",
    "for i, prob_scores in enumerate(predicted_probabilities):\n",
    "    is_malicious = prob_scores[1]  # Probability of being malicious (IsMalicious=1)\n",
    "    if is_malicious >= 0.7:  # You can adjust this threshold as needed\n",
    "        new_potentially_malicious_logs.append(X_test.iloc[i])\n",
    "\n",
    "if new_potentially_malicious_logs:\n",
    "    print(\"The new dataset contains potentially malicious logs.\")\n",
    "    for log in new_potentially_malicious_logs:\n",
    "        print(log)\n",
    "else:\n",
    "    print(\"The new dataset does not contain potentially malicious logs.\")"
   ]
  },
  {
   "cell_type": "code",
   "execution_count": null,
   "metadata": {},
   "outputs": [],
   "source": []
  }
 ],
 "metadata": {
  "kernelspec": {
   "display_name": "Python 3",
   "language": "python",
   "name": "python3"
  },
  "language_info": {
   "codemirror_mode": {
    "name": "ipython",
    "version": 3
   },
   "file_extension": ".py",
   "mimetype": "text/x-python",
   "name": "python",
   "nbconvert_exporter": "python",
   "pygments_lexer": "ipython3",
   "version": "3.11.3"
  },
  "orig_nbformat": 4
 },
 "nbformat": 4,
 "nbformat_minor": 2
}
